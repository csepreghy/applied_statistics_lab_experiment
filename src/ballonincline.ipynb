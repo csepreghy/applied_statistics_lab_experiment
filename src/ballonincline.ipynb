{
 "cells": [
  {
   "cell_type": "markdown",
   "metadata": {},
   "source": [
    "# Analyze Ball on Incline data\n",
    "Use this notebook to quickly test whether your ball on incline data makes sense!"
   ]
  },
  {
   "cell_type": "code",
   "execution_count": 7,
   "metadata": {},
   "outputs": [],
   "source": [
    "# Imports\n",
    "import os, sys\n",
    "import numpy as np\n",
    "import matplotlib.pyplot as plt\n",
    "import statistics\n",
    "\n",
    "from iminuit import Minuit\n",
    "sys.path.append('../../External_Functions')\n",
    "from ExternalFunctions import Chi2Regression"
   ]
  },
  {
   "cell_type": "markdown",
   "metadata": {},
   "source": [
    "## Reading the data\n",
    "\n",
    "The function \"read_csv(filename)\" takes in a filename and returns numpy arrays with time and voltage."
   ]
  },
  {
   "cell_type": "code",
   "execution_count": 8,
   "metadata": {},
   "outputs": [],
   "source": [
    "def read_csv(filename):\n",
    "    \"\"\"Read CSV from Waveforms\"\"\"\n",
    "    dat = np.genfromtxt(filename, delimiter=',', skip_header=13, names=True)\n",
    "    time = dat['Time_s']\n",
    "    voltage = dat['Channel_1_V']\n",
    "    return time, voltage\n",
    "\n",
    "def find_midpoints(time, voltage, show_plot=True):\n",
    "    \"\"\"Find midpoints -- quick and dirty\"\"\"\n",
    "    \n",
    "    # Write a function yourself, which identifies the peaks in the voltage,\n",
    "    # and returns values for passing times and (possibly) their uncertainties in it.\n",
    "    t_pass = [0.0, 0.1]\n",
    "    t_pass_sigma = [0.0001, 0.00001]\n",
    "    \n",
    "    return t_pass, t_pass_sigma"
   ]
  },
  {
   "cell_type": "code",
   "execution_count": 9,
   "metadata": {
    "code_folding": [],
    "scrolled": false
   },
   "outputs": [
    {
     "data": {
      "text/plain": [
       "Text(0, 0.5, 'Voltage (V)')"
      ]
     },
     "execution_count": 9,
     "metadata": {},
     "output_type": "execute_result"
    },
    {
     "data": {
      "image/png": "[encoded data removed]",
      "text/plain": [
       "<Figure size 1008x432 with 1 Axes>"
      ]
     },
     "metadata": {
      "needs_background": "light"
     },
     "output_type": "display_data"
    }
   ],
   "source": [
    "# Read the data and plot it (possibly with passing times in):\n",
    "filename = '1S01.csv'\n",
    "\n",
    "time, voltage = read_csv(filename)\n",
    "timepass, timepass_sig = find_midpoints(time, voltage)\n",
    "\n",
    "fig, ax = plt.subplots(figsize=(14, 6))\n",
    "ax.plot(time, voltage, 'k.', label='Measurements')\n",
    "# ax.set_xlim(chi2_minpos-2*min_fit, chi2_minpos+2*max_fit)\n",
    "ax.set_title(\"Data from Ball-on-Incline experiment\")\n",
    "ax.set_xlabel(\"Time (s)\")\n",
    "ax.set_ylabel(\"Voltage (V)\")"
   ]
  },
  {
   "cell_type": "code",
   "execution_count": 10,
   "metadata": {},
   "outputs": [
    {
     "name": "stdout",
     "output_type": "stream",
     "text": [
      "[0.22425 0.35515 0.4856  0.6146  0.74525]\n",
      "[0.00102144 0.00111206 0.00123558 0.00141657 0.00161761]\n"
     ]
    }
   ],
   "source": [
    "def para(time,voltage):\n",
    "    time_list = []\n",
    "    i_list = []\n",
    "    for i in range(len(voltage)):\n",
    "        if np.sign(voltage[i]) != np.sign(voltage[i-1]):\n",
    "            i_list.append(i)\n",
    "            time_list.append(time[i])\n",
    "    e_list = [1.0/np.sqrt(i_list[1]-i_list[0]),1.0/np.sqrt(i_list[3]-i_list[2]),1.0/np.sqrt(i_list[5]-i_list[4]),1.0/np.sqrt(i_list[7]-i_list[6]),1.0/np.sqrt(i_list[9]-i_list[8])]\n",
    "    time_list = np.asarray(time_list)\n",
    "    time_list = time_list-time_list[0]\n",
    "    time_list = time_list[::2]\n",
    "    return time_list, e_list\n",
    "\n",
    "\n",
    "\n",
    "\n",
    "time_l = para(time,voltage)\n",
    "\n",
    "\n",
    "\n",
    "d1 = np.array([0.2228,0.3536,0.4840,0.6125,0.7432])\n",
    "d2 = np.array([0.2245,0.3562,0.4853,0.6151,0.7469])\n",
    "d3 = np.array([0.2252,0.3552,0.4868,0.6156,0.7448])\n",
    "d4 = np.array([0.2245,0.3556,0.4863,0.6152,0.7461])\n",
    "\n",
    "d12 = np.array([0,0.3536-0.2228,0.4840-0.2228,0.6125-0.2228,0.7432-0.2228])\n",
    "d13 = np.array([0,0.3562-0.2245,0.4853-0.2245,0.6151-0.2245,0.7469-0.2245])\n",
    "d14 = np.array([0,0.3552-0.2252,0.4868-0.2252,0.6156-0.2252,0.7448-0.2252])\n",
    "d15 = np.array([0,0.3556-0.2245,0.4863-0.2245,0.6152-0.2245,0.7461-0.2245])\n",
    "\n",
    "g1_dist = [d1[0],d2[0],d3[0],d4[0]]\n",
    "\n",
    "d_mean = np.zeros(5)\n",
    "d_error = np.zeros(5)\n",
    "\n",
    "d_error[0] = statistics.stdev(g1_dist)\n",
    "d_mean[0] = statistics.mean(g1_dist)\n",
    "\n",
    "g2_dist = [d1[1],d2[1],d3[1],d4[1]]\n",
    "\n",
    "d_error[1] = statistics.stdev(g2_dist)\n",
    "d_mean[1] = statistics.mean(g2_dist)\n",
    "\n",
    "g3_dist = [d1[2],d2[2],d3[2],d4[2]]\n",
    "\n",
    "d_error[2] = statistics.stdev(g3_dist)\n",
    "d_mean[2] = statistics.mean(g3_dist)\n",
    "\n",
    "g4_dist = [d1[3],d2[3],d3[3],d4[3]]\n",
    "\n",
    "d_error[3] = statistics.stdev(g4_dist)\n",
    "d_mean[3] = statistics.mean(g4_dist)\n",
    "\n",
    "g5_dist = [d1[4],d2[4],d3[4],d4[4]]\n",
    "\n",
    "d_error[4] = statistics.stdev(g5_dist)\n",
    "d_mean[4] = statistics.mean(g5_dist)\n",
    "\n",
    "\n",
    "\n",
    "\n",
    "print(d_mean)\n",
    "print(d_error)\n",
    "\n",
    "\n",
    "\n",
    "\n",
    "#plt.plot(time_l,d)\n",
    "#plt.show()\n",
    "\n",
    "\n",
    "\n",
    "\n",
    "            "
   ]
  },
  {
   "cell_type": "code",
   "execution_count": 47,
   "metadata": {},
   "outputs": [
    {
     "name": "stdout",
     "output_type": "stream",
     "text": [
      "  Fit: a0=0.2243+-0.0010  a1=0.6028+-0.0097 a2=0.7197+-0.0191  p=0.8826 Chi2=0.2497\n",
      "  Fit: a0=0.2244+-0.0010  a1=0.5934+-0.0096 a2=0.7236+-0.0189  p=0.8617 Chi2=0.2978\n",
      "  Fit: a0=0.2243+-0.0010  a1=0.6007+-0.0097 a2=0.7218+-0.0191  p=0.9018 Chi2=0.2067\n",
      "  Fit: a0=0.2243+-0.0010  a1=0.6007+-0.0097 a2=0.7242+-0.0191  p=0.9328 Chi2=0.1392\n",
      "  Fit: a0=0.2243+-0.0010  a1=0.6048+-0.0097 a2=0.7201+-0.0192  p=0.8977 Chi2=0.2158\n",
      "  Fit: a0=0.2243+-0.0010  a1=0.6017+-0.0097 a2=0.7232+-0.0191  p=0.9246 Chi2=0.1567\n",
      "  Fit: a0=0.2243+-0.0010  a1=0.6002+-0.0097 a2=0.7209+-0.0190  p=0.9052 Chi2=0.1992\n",
      "  Fit: a0=0.2243+-0.0010  a1=0.6013+-0.0097 a2=0.7227+-0.0191  p=0.8928 Chi2=0.2268\n",
      "  Fit: a0=0.2243+-0.0010  a1=0.6010+-0.0097 a2=0.7247+-0.0191  p=0.9575 Chi2=0.0868\n",
      "  Fit: a0=0.2243+-0.0010  a1=0.5990+-0.0097 a2=0.7215+-0.0190  p=0.9156 Chi2=0.1763\n",
      "  Fit: a0=0.2243+-0.0010  a1=0.5997+-0.0097 a2=0.7228+-0.0191  p=0.9108 Chi2=0.1868\n",
      "  Fit: a0=0.2244+-0.0010  a1=0.6010+-0.0097 a2=0.7222+-0.0191  p=0.8561 Chi2=0.3108\n",
      "  Fit: a0=0.2243+-0.0010  a1=0.5985+-0.0097 a2=0.7182+-0.0190  p=0.8893 Chi2=0.2347\n",
      "  Fit: a0=0.2243+-0.0010  a1=0.6020+-0.0097 a2=0.7153+-0.0190  p=0.9739 Chi2=0.0530\n",
      "  Fit: a0=0.2243+-0.0010  a1=0.6007+-0.0097 a2=0.7242+-0.0191  p=0.9328 Chi2=0.1392\n",
      "  Fit: a0=0.2243+-0.0010  a1=0.6018+-0.0097 a2=0.7180+-0.0190  p=0.9263 Chi2=0.1532\n",
      "  Fit: a0=0.2243+-0.0010  a1=0.5976+-0.0097 a2=0.7220+-0.0190  p=0.8918 Chi2=0.2290\n",
      "  Fit: a0=0.2243+-0.0010  a1=0.5986+-0.0097 a2=0.7206+-0.0190  p=0.9445 Chi2=0.1142\n",
      "  Fit: a0=0.2243+-0.0010  a1=0.6000+-0.0097 a2=0.7205+-0.0190  p=0.9067 Chi2=0.1959\n",
      "  Fit: a0=0.2243+-0.0010  a1=0.5996+-0.0097 a2=0.7196+-0.0190  p=0.9371 Chi2=0.1299\n",
      "  Fit: a0=0.2243+-0.0010  a1=0.6008+-0.0097 a2=0.7190+-0.0190  p=0.9341 Chi2=0.1364\n",
      "  Fit: a0=0.2243+-0.0010  a1=0.6011+-0.0097 a2=0.7223+-0.0191  p=0.9304 Chi2=0.1444\n",
      "  Fit: a0=0.2243+-0.0010  a1=0.6013+-0.0097 a2=0.7227+-0.0191  p=0.8928 Chi2=0.2268\n",
      "  Fit: a0=0.2243+-0.0010  a1=0.6007+-0.0097 a2=0.7218+-0.0191  p=0.9018 Chi2=0.2067\n",
      "  Fit: a0=0.2243+-0.0010  a1=0.6020+-0.0097 a2=0.7208+-0.0191  p=0.9172 Chi2=0.1730\n",
      "  Fit: a0=0.2243+-0.0010  a1=0.6194+-0.0100 a2=0.7634+-0.0202  p=0.9218 Chi2=0.1629\n",
      "  Fit: a0=0.2243+-0.0010  a1=0.6198+-0.0100 a2=0.7643+-0.0202  p=0.8810 Chi2=0.2535\n",
      "  Fit: a0=0.2243+-0.0010  a1=0.6201+-0.0100 a2=0.7614+-0.0202  p=0.9467 Chi2=0.1095\n",
      "  Fit: a0=0.2243+-0.0010  a1=0.6175+-0.0100 a2=0.7661+-0.0202  p=0.8992 Chi2=0.2125\n",
      "  Fit: a0=0.2243+-0.0010  a1=0.6182+-0.0100 a2=0.7615+-0.0202  p=0.8940 Chi2=0.2241\n",
      "  Fit: a0=0.2244+-0.0010  a1=0.6197+-0.0100 a2=0.7639+-0.0202  p=0.8790 Chi2=0.2580\n",
      "  Fit: a0=0.2243+-0.0010  a1=0.6143+-0.0100 a2=0.7668+-0.0201  p=0.8955 Chi2=0.2207\n",
      "  Fit: a0=0.2243+-0.0010  a1=0.6133+-0.0099 a2=0.7649+-0.0201  p=0.9388 Chi2=0.1264\n",
      "  Fit: a0=0.2243+-0.0010  a1=0.6185+-0.0100 a2=0.7589+-0.0201  p=0.8823 Chi2=0.2504\n",
      "  Fit: a0=0.2244+-0.0010  a1=0.6179+-0.0100 a2=0.7670+-0.0202  p=0.8592 Chi2=0.3036\n",
      "  Fit: a0=0.2243+-0.0010  a1=0.6196+-0.0100 a2=0.7665+-0.0203  p=0.9095 Chi2=0.1898\n",
      "  Fit: a0=0.2243+-0.0010  a1=0.6117+-0.0099 a2=0.7715+-0.0201  p=0.8705 Chi2=0.2775\n",
      "  Fit: a0=0.2243+-0.0010  a1=0.6197+-0.0100 a2=0.7609+-0.0202  p=0.9181 Chi2=0.1708\n",
      "  Fit: a0=0.2243+-0.0010  a1=0.6161+-0.0100 a2=0.7637+-0.0201  p=0.9130 Chi2=0.1820\n",
      "  Fit: a0=0.2243+-0.0010  a1=0.6185+-0.0100 a2=0.7676+-0.0202  p=0.9184 Chi2=0.1702\n",
      "  Fit: a0=0.2243+-0.0010  a1=0.6122+-0.0099 a2=0.7660+-0.0200  p=0.9462 Chi2=0.1107\n",
      "  Fit: a0=0.2243+-0.0010  a1=0.6133+-0.0099 a2=0.7619+-0.0200  p=0.9647 Chi2=0.0720\n",
      "  Fit: a0=0.2243+-0.0010  a1=0.6175+-0.0100 a2=0.7661+-0.0202  p=0.8992 Chi2=0.2125\n",
      "  Fit: a0=0.2243+-0.0010  a1=0.6204+-0.0100 a2=0.7649+-0.0203  p=0.9433 Chi2=0.1168\n",
      "  Fit: a0=0.2244+-0.0010  a1=0.6169+-0.0100 a2=0.7655+-0.0202  p=0.8297 Chi2=0.3734\n",
      "  Fit: a0=0.2243+-0.0010  a1=0.6194+-0.0100 a2=0.7634+-0.0202  p=0.9218 Chi2=0.1629\n",
      "  Fit: a0=0.2243+-0.0010  a1=0.6183+-0.0100 a2=0.7645+-0.0202  p=0.9301 Chi2=0.1448\n",
      "  Fit: a0=0.2243+-0.0010  a1=0.6196+-0.0100 a2=0.7665+-0.0203  p=0.9095 Chi2=0.1898\n",
      "  Fit: a0=0.2243+-0.0010  a1=0.6207+-0.0100 a2=0.7654+-0.0203  p=0.9001 Chi2=0.2106\n",
      "  Fit: a0=0.2243+-0.0010  a1=0.6190+-0.0100 a2=0.7655+-0.0202  p=0.9228 Chi2=0.1606\n"
     ]
    }
   ],
   "source": [
    "import numpy as np                                     # Matlab like syntax for linear algebra and functions\n",
    "import matplotlib.pyplot as plt                        # Plots and figures like you know them from Matlab\n",
    "import seaborn as sns                                  # Make the plots nicer to look at\n",
    "from iminuit import Minuit                             # The actual fitting tool, better than scipy's\n",
    "import sys                                             # Module to see files and folders in directories\n",
    "from scipy import stats\n",
    "def fit_function2(x, alpha0, alpha1, alpha2):\n",
    "        return alpha0 + alpha1*x + alpha2*x**2\n",
    "\n",
    "infiles1 = ['1S01.csv','1S02.csv','1S03.csv','1S04.csv','1S05.csv','1S06.csv','1S07.csv','1S08.csv','1S09.csv','1S10.csv',\n",
    "            '1S11.csv','1S12.csv','1S13.csv','1S14.csv','1S15.csv','1S16.csv','1S17.csv','1S18.csv','1S19.csv','1S20.csv',\n",
    "            '1S21.csv','1S22.csv','1S23.csv','1S24.csv','1S25.csv']\n",
    "infiles2= ['2S01.csv','2S02.csv','2S03.csv','2S04.csv','2S05.csv','2S06.csv','2S07.csv','2S08.csv','2S09.csv','2S10.csv',\n",
    "            '2S11.csv','2S12.csv','2S13.csv','2S14.csv','2S15.csv','2S16.csv','2S17.csv','2S18.csv','2S19.csv','2S20.csv',\n",
    "            '2S21.csv','2S22.csv','2S23.csv','2S24.csv','2S25.csv']\n",
    "\n",
    "\n",
    "Nexp = 1\n",
    "Npoints=5\n",
    "# Arrays for storing fit results:\n",
    "\n",
    "\n",
    "\n",
    "# Loop, repeating the data generation and fit:\n",
    "def fit(infiles):\n",
    "    array_alpha0 = np.zeros(len(infiles))\n",
    "    array_alpha1 = np.zeros(len(infiles))\n",
    "    array_alpha2 = np.zeros(len(infiles))\n",
    "    array_Chi2 = np.zeros(len(infiles))\n",
    "    array_Prob = np.zeros(len(infiles))\n",
    "    array_time = np.zeros((len(infiles),5))\n",
    "    array_alpha2_err = np.zeros(len(infiles))\n",
    "    for iexp in range(len(infiles)) : \n",
    "        time, voltage = read_csv(infiles[iexp])\n",
    "\n",
    "        time_l, etime = para(time,voltage)\n",
    "\n",
    "        def fit_function2(x, alpha0, alpha1, alpha2):\n",
    "            return alpha0 + alpha1*x + alpha2*x**2\n",
    "\n",
    "    # Now we define a ChiSquare to be minimised (using probfit), where we set various settings and starting parameters:\n",
    "        chi2_object = Chi2Regression(fit_function2, time_l, d_mean, d_error) \n",
    "        minuit = Minuit(chi2_object, pedantic=False, alpha0=3.0, alpha1=0.0, alpha2=0.0, print_level=0)  \n",
    "        minuit.migrad();                                                  # Perform the actual fit\n",
    "        minuit_output = [minuit.get_fmin(), minuit.get_param_states()]    # Save the output parameters in case needed\n",
    "    \n",
    "    # Here we extract the fitting parameters and their errors\n",
    "        alpha0_fit = minuit.values['alpha0']\n",
    "        alpha1_fit = minuit.values['alpha1']\n",
    "        alpha2_fit = minuit.values['alpha2']\n",
    "        sigma_alpha0_fit = minuit.errors['alpha0']\n",
    "        sigma_alpha1_fit = minuit.errors['alpha1']\n",
    "        sigma_alpha2_fit = minuit.errors['alpha2']\n",
    "    \n",
    "        Nvar = 3                     # Number of variables (alpha0 and alpha1)\n",
    "        Ndof_fit = 2                 # Number of degrees of freedom = Number of data points - Number of variables\n",
    "     \n",
    "    # In Minuit, you can just ask the fit function for the Chi2:\n",
    "        Chi2_fit = minuit.fval                          # The chi2 value\n",
    "    \n",
    "        Prob_fit = stats.chi2.sf(Chi2_fit, Ndof_fit)    # The chi2 probability given N degrees of freedom\n",
    "    \n",
    "    # Fill the arrays with fit results (to produce plots of these at the end):\n",
    "        array_alpha0[iexp] = alpha0_fit\n",
    "        array_alpha1[iexp] = alpha1_fit\n",
    "        array_alpha2[iexp] = alpha2_fit\n",
    "        array_Chi2[iexp] = Chi2_fit\n",
    "        array_Prob[iexp] = Prob_fit\n",
    "        array_time[iexp,:] = time_l\n",
    "        array_alpha2_err[iexp] = sigma_alpha2_fit\n",
    "        avg_alpha0 = statistics.mean(array_alpha0)\n",
    "        avg_alpha1 = statistics.mean(array_alpha1)\n",
    "        avg_alpha2 = statistics.mean(array_alpha2)\n",
    "    \n",
    "    # Let us see what the fit gives for the first couple of data sets:\n",
    "        if (iexp < 100) :\n",
    "            print(f\"  Fit: a0={alpha0_fit:6.4f}+-{sigma_alpha0_fit:5.4f}  a1={alpha1_fit:5.4f}+-{sigma_alpha1_fit:5.4f} a2={alpha2_fit:5.4f}+-{sigma_alpha2_fit:5.4f}  p={Prob_fit:6.4f} Chi2={Chi2_fit:6.4f}\")\n",
    "    return array_alpha2,array_alpha2_err,avg_alpha2\n",
    "    \n",
    "a1, a1err, a1avg = fit(infiles1)\n",
    "a2, a2err, a2avg = fit(infiles2)\n",
    "\n",
    "\n",
    "\n"
   ]
  },
  {
   "cell_type": "code",
   "execution_count": 48,
   "metadata": {},
   "outputs": [
    {
     "data": {
      "image/png": "[encoded data removed]",
      "text/plain": [
       "<Figure size 720x432 with 1 Axes>"
      ]
     },
     "execution_count": 48,
     "metadata": {},
     "output_type": "execute_result"
    }
   ],
   "source": [
    "fig, ax = plt.subplots(figsize=(10,6))\n",
    "\n",
    "\n",
    "for i in range(len(infiles1)):\n",
    "\n",
    "    ax.scatter(array_time[i], d_mean)\n",
    "x = np.linspace(0,0.6,1000)\n",
    "ax.plot(x, fit_function2(x, avg_alpha0,avg_alpha1,avg_alpha2), '-r')\n",
    "plt.close()\n",
    "d = {'alpha0':   [alpha0_fit, sigma_alpha0_fit],\n",
    "     'alpha1':   [alpha1_fit, sigma_alpha1_fit],\n",
    "     'alpha2':   [alpha2_fit, sigma_alpha2_fit],\n",
    "     'Chi2':     Chi2_fit,\n",
    "     'ndf':      Ndof_fit,\n",
    "     'Prob':     Prob_fit,\n",
    "    }\n",
    "\n",
    "\n",
    "\n",
    "fig.tight_layout()\n",
    "fig"
   ]
  },
  {
   "cell_type": "code",
   "execution_count": 49,
   "metadata": {},
   "outputs": [
    {
     "data": {
      "text/plain": [
       "(array([1., 0., 0., 0., 0., 0., 0., 0., 0., 0., 0., 0., 0., 0., 1., 1., 0.,\n",
       "        0., 0., 1., 0., 0., 1., 1., 0., 1., 0., 1., 1., 2., 0., 0., 1., 0.,\n",
       "        2., 1., 1., 1., 0., 3., 0., 1., 0., 1., 0., 0., 0., 2., 0., 1.]),\n",
       " array([0.71533246, 0.71551955, 0.71570663, 0.71589372, 0.71608081,\n",
       "        0.7162679 , 0.71645498, 0.71664207, 0.71682916, 0.71701625,\n",
       "        0.71720333, 0.71739042, 0.71757751, 0.7177646 , 0.71795168,\n",
       "        0.71813877, 0.71832586, 0.71851295, 0.71870003, 0.71888712,\n",
       "        0.71907421, 0.7192613 , 0.71944839, 0.71963547, 0.71982256,\n",
       "        0.72000965, 0.72019674, 0.72038382, 0.72057091, 0.720758  ,\n",
       "        0.72094509, 0.72113217, 0.72131926, 0.72150635, 0.72169344,\n",
       "        0.72188052, 0.72206761, 0.7222547 , 0.72244179, 0.72262887,\n",
       "        0.72281596, 0.72300305, 0.72319014, 0.72337723, 0.72356431,\n",
       "        0.7237514 , 0.72393849, 0.72412558, 0.72431266, 0.72449975,\n",
       "        0.72468684]),\n",
       " <a list of 50 Patch objects>)"
      ]
     },
     "execution_count": 49,
     "metadata": {},
     "output_type": "execute_result"
    },
    {
     "data": {
      "image/png": "[encoded data removed]",
      "text/plain": [
       "<Figure size 648x1008 with 1 Axes>"
      ]
     },
     "metadata": {
      "needs_background": "light"
     },
     "output_type": "display_data"
    }
   ],
   "source": [
    "fig_raw, ax = plt.subplots(figsize=(9,14), gridspec_kw={'hspace':0.5})\n",
    "\n",
    "ax.hist(a1,bins = 50)"
   ]
  },
  {
   "cell_type": "code",
   "execution_count": 56,
   "metadata": {},
   "outputs": [
    {
     "name": "stdout",
     "output_type": "stream",
     "text": [
      "------------------------------------------------------------------\n",
      "| FCN = 20.42                   |    Ncalls=1393 (1393 total)    |\n",
      "| EDM = 2.2E-05 (Goal: 1E-05)   |            up = 1.0            |\n",
      "------------------------------------------------------------------\n",
      "|  Valid Min.   | Valid Param.  | Above EDM | Reached call limit |\n",
      "------------------------------------------------------------------\n",
      "|     True      |     True      |   False   |       False        |\n",
      "------------------------------------------------------------------\n",
      "| Hesse failed  |   Has cov.    | Accurate  | Pos. def. | Forced |\n",
      "------------------------------------------------------------------\n",
      "|     False     |     True      |   True    |   True    | False  |\n",
      "------------------------------------------------------------------\n",
      "0.005212232147851633 0.7219264293368383 0.0023495647322132693\n",
      "20.42036046843747 0.9997463393956562\n"
     ]
    },
    {
     "data": {
      "image/png": "[encoded data removed]",
      "text/plain": [
       "<Figure size 648x1008 with 1 Axes>"
      ]
     },
     "metadata": {
      "needs_background": "light"
     },
     "output_type": "display_data"
    },
    {
     "name": "stdout",
     "output_type": "stream",
     "text": [
      "------------------------------------------------------------------\n",
      "| FCN = 25.85                   |     Ncalls=387 (398 total)     |\n",
      "| EDM = 4.25 (Goal: 1E-05)      |            up = 1.0            |\n",
      "------------------------------------------------------------------\n",
      "|  Valid Min.   | Valid Param.  | Above EDM | Reached call limit |\n",
      "------------------------------------------------------------------\n",
      "|     False     |     True      |   True    |       False        |\n",
      "------------------------------------------------------------------\n",
      "| Hesse failed  |   Has cov.    | Accurate  | Pos. def. | Forced |\n",
      "------------------------------------------------------------------\n",
      "|     False     |     True      |   False   |   True    | False  |\n",
      "------------------------------------------------------------------\n",
      "0.014828896584943173 0.7593177186497525 0.008967301999977976\n",
      "25.8477880228017 0.9948332452699475\n"
     ]
    },
    {
     "data": {
      "text/plain": [
       "[<matplotlib.lines.Line2D at 0x7f6cdef820b8>]"
      ]
     },
     "execution_count": 56,
     "metadata": {},
     "output_type": "execute_result"
    },
    {
     "data": {
      "image/png": "[encoded data removed]",
      "text/plain": [
       "<Figure size 648x1008 with 1 Axes>"
      ]
     },
     "metadata": {
      "needs_background": "light"
     },
     "output_type": "display_data"
    }
   ],
   "source": [
    "N_bins = 50\n",
    "\n",
    "def gauss_pdf(x,mu,sigma):\n",
    "    return 1.0/np.sqrt(2.0*np.pi)/sigma*np.exp(-(x-mu)**2.0/2.0/sigma**2.0)\n",
    "\n",
    "def gauss_ext(x,N,mu,sigma):\n",
    "    return N*gauss_pdf(x,mu,sigma)\n",
    "\n",
    "y_a1, xedge = np.histogram(a1, bins=N_bins, range=(min(a1), max(a1)))\n",
    "x_a1 = (xedge[1:] + xedge[:-1])/2\n",
    "\n",
    "chi2_object_a1 = Chi2Regression(gauss_ext, x_a1, y_a1)\n",
    "minuit = Minuit(chi2_object_a1, pedantic=False, N = 1, mu = a1avg, sigma = statistics.stdev(a1), print_level=1)  \n",
    "minuit.migrad();                                                  # Perform the actual fit\n",
    "minuit_output = [minuit.get_fmin(), minuit.get_param_states()]\n",
    "Na1 = minuit.values['N']\n",
    "mua1 = minuit.values['mu']\n",
    "sigmaa1 = minuit.values['sigma']\n",
    "\n",
    "print(Na1,mua1,sigmaa1)\n",
    "Chi2_fit_a1 = minuit.fval                          \n",
    "Prob_fit_a1 = stats.chi2.sf(Chi2_fit_a1, len(x_a1)-3) \n",
    "print(Chi2_fit_a1,Prob_fit_a1)\n",
    "\n",
    "xaxis = np.linspace(min(x_a1)-0.003, max(x_a1)+0.003,100)\n",
    "yaxis = gauss_ext(xaxis,Na1,mua1,sigmaa1)\n",
    "\n",
    "\n",
    "fig_raw, ax = plt.subplots(figsize=(9,14), gridspec_kw={'hspace':0.5})\n",
    "\n",
    "ax.hist(a1,bins = N_bins)\n",
    "ax.plot(xaxis,yaxis)\n",
    "plt.show()\n",
    "\n",
    "y_a2, xedge = np.histogram(a2, bins=N_bins, range=(min(a2), max(a2)))\n",
    "x_a2 = (xedge[1:] + xedge[:-1])/2\n",
    "\n",
    "chi2_object_a2 = Chi2Regression(gauss_ext, x_a2, y_a2)\n",
    "minuit = Minuit(chi2_object_a2, pedantic=False, N = 1, mu = a2avg, sigma = statistics.stdev(a2), print_level=1)  \n",
    "minuit.migrad();                                                  # Perform the actual fit\n",
    "minuit_output = [minuit.get_fmin(), minuit.get_param_states()]\n",
    "Na2 = minuit.values['N']\n",
    "mua2 = minuit.values['mu']\n",
    "sigmaa2 = minuit.values['sigma']\n",
    "\n",
    "print(Na2,mua2,sigmaa2)\n",
    "Chi2_fit_a2 = minuit.fval                          \n",
    "Prob_fit_a2 = stats.chi2.sf(Chi2_fit_a2, len(x_a2)-3) \n",
    "print(Chi2_fit_a2,Prob_fit_a2)\n",
    "\n",
    "xaxis = np.linspace(min(a2)-0.003, max(a2)+0.003,100)\n",
    "yaxis = gauss_ext(xaxis,Na2,mua2,sigmaa2)\n",
    "\n",
    "\n",
    "fig_raw, ax = plt.subplots(figsize=(9,14), gridspec_kw={'hspace':0.5})\n",
    "\n",
    "ax.hist(a2,bins =N_bins)\n",
    "ax.plot(xaxis,yaxis)"
   ]
  },
  {
   "cell_type": "code",
   "execution_count": null,
   "metadata": {},
   "outputs": [],
   "source": []
  }
 ],
 "metadata": {
  "kernelspec": {
   "display_name": "Python 3",
   "language": "python",
   "name": "python3"
  },
  "language_info": {
   "codemirror_mode": {
    "name": "ipython",
    "version": 3
   },
   "file_extension": ".py",
   "mimetype": "text/x-python",
   "name": "python",
   "nbconvert_exporter": "python",
   "pygments_lexer": "ipython3",
   "version": "3.7.4"
  }
 },
 "nbformat": 4,
 "nbformat_minor": 2
}
